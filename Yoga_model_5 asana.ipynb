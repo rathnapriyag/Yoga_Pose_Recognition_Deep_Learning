{
 "cells": [
  {
   "cell_type": "code",
   "execution_count": 8,
   "metadata": {},
   "outputs": [
    {
     "data": {
      "text/plain": [
       "'C:\\\\Users\\\\Priya'"
      ]
     },
     "execution_count": 8,
     "metadata": {},
     "output_type": "execute_result"
    }
   ],
   "source": [
    "import numpy as np\n",
    "import os\n",
    "import pandas as pd\n",
    "import cv2\n",
    "import glob\n",
    "import matplotlib.image as mpimg\n",
    "import pandas as pd\n",
    "import matplotlib.pyplot as plt\n",
    "import tensorflow as tf\n",
    "from tensorflow import keras\n",
    "\n",
    "seed = 314\n",
    "tf.random.set_seed(seed)\n",
    "np.random.seed(seed)\n",
    "\n",
    "cur_dir = os.getcwd()\n",
    "cur_dir"
   ]
  },
  {
   "cell_type": "code",
   "execution_count": 9,
   "metadata": {},
   "outputs": [
    {
     "data": {
      "text/plain": [
       "'C:\\\\Users\\\\Priya\\\\Yoga_5_asana\\\\DATASET\\\\TRAIN\\\\'"
      ]
     },
     "execution_count": 9,
     "metadata": {},
     "output_type": "execute_result"
    }
   ],
   "source": [
    "train_path = cur_dir + \"\\\\Yoga_5_asana\\\\DATASET\\\\TRAIN\\\\\"\n",
    "train_path"
   ]
  },
  {
   "cell_type": "code",
   "execution_count": 10,
   "metadata": {},
   "outputs": [
    {
     "data": {
      "text/plain": [
       "'C:\\\\Users\\\\Priya\\\\Yoga_5_asana\\\\DATASET\\\\TEST\\\\'"
      ]
     },
     "execution_count": 10,
     "metadata": {},
     "output_type": "execute_result"
    }
   ],
   "source": [
    "test_path = cur_dir + \"\\\\Yoga_5_asana\\\\DATASET\\\\TEST\\\\\"\n",
    "test_path"
   ]
  },
  {
   "cell_type": "code",
   "execution_count": 11,
   "metadata": {
    "id": "lGEtxEv0Zdo7"
   },
   "outputs": [],
   "source": [
    "from tensorflow.keras import Sequential, layers"
   ]
  },
  {
   "cell_type": "code",
   "execution_count": null,
   "metadata": {},
   "outputs": [],
   "source": [
    "from tensorflow.keras.preprocessing.image import ImageDataGenerator\n",
    "train_datagen = ImageDataGenerator(\n",
    "    rescale = 1/255, \n",
    "    shear_range = 0.2, \n",
    "    zoom_range = 0.2,\n",
    "    horizontal_flip = True \n",
    ")\n",
    "\n",
    "test_datagen = ImageDataGenerator(\n",
    "    rescale = 1/ 255,\n",
    "    horizontal_flip = True,\n",
    "    validation_split=0.25,\n",
    ")"
   ]
  },
  {
   "cell_type": "code",
   "execution_count": 13,
   "metadata": {
    "colab": {
     "base_uri": "https://localhost:8080/"
    },
    "id": "9XOgPgFIOZy2",
    "outputId": "a512a13d-96d0-495c-9afb-d5e602ab71ef"
   },
   "outputs": [
    {
     "name": "stdout",
     "output_type": "stream",
     "text": [
      "Found 1081 images belonging to 5 classes.\n",
      "Found 354 images belonging to 5 classes.\n",
      "Found 116 images belonging to 5 classes.\n"
     ]
    }
   ],
   "source": [
    "img_size = 128\n",
    "\n",
    "train_gen = train_datagen.flow_from_directory(\n",
    "    train_path,\n",
    "    batch_size = 16,\n",
    "    class_mode = 'categorical',\n",
    "    target_size = (img_size, img_size),\n",
    "    shuffle = True,\n",
    "    seed = 314\n",
    ")\n",
    "\n",
    "test_gen = test_datagen.flow_from_directory(\n",
    "    test_path,\n",
    "    batch_size = 16,\n",
    "    class_mode = 'categorical',\n",
    "    target_size = (img_size, img_size),\n",
    "    shuffle = True,\n",
    "    seed = seed,\n",
    "    subset='training', \n",
    ")\n",
    "\n",
    "val_gen = test_datagen.flow_from_directory(\n",
    "    test_path,\n",
    "    batch_size = 16,\n",
    "    class_mode = 'categorical',\n",
    "    target_size = (img_size, img_size),\n",
    "    shuffle = True,\n",
    "    seed = seed,\n",
    "    subset='validation',\n",
    ")"
   ]
  },
  {
   "cell_type": "code",
   "execution_count": 14,
   "metadata": {
    "id": "QEvVR--7OhLR"
   },
   "outputs": [],
   "source": [
    "model = Sequential([\n",
    "    layers.InputLayer(input_shape=[img_size, img_size, 3]),\n",
    "    layers.Conv2D(filters=16, kernel_size=3, padding='same', activation='relu'),\n",
    "    layers.MaxPooling2D(),\n",
    "    layers.Conv2D(32, 3, padding='same', activation='relu'),\n",
    "    layers.MaxPooling2D(),\n",
    "    layers.Conv2D(64, 3, padding='same', activation='relu'),\n",
    "    layers.MaxPooling2D(),\n",
    "    layers.Flatten(),\n",
    "    layers.Dense(256, activation='relu'),\n",
    "    layers.Dropout(0.3),\n",
    "    layers.Dense(256, activation='relu'),\n",
    "    layers.Dropout(0.3),\n",
    "    layers.Dense(5, activation='softmax')\n",
    "])"
   ]
  },
  {
   "cell_type": "code",
   "execution_count": 15,
   "metadata": {
    "colab": {
     "base_uri": "https://localhost:8080/"
    },
    "id": "UPZTg8GPO9VJ",
    "outputId": "15fb4315-056d-4967-f442-ae72c86366a7"
   },
   "outputs": [
    {
     "name": "stdout",
     "output_type": "stream",
     "text": [
      "Model: \"sequential\"\n",
      "_________________________________________________________________\n",
      " Layer (type)                Output Shape              Param #   \n",
      "=================================================================\n",
      " conv2d (Conv2D)             (None, 128, 128, 16)      448       \n",
      "                                                                 \n",
      " max_pooling2d (MaxPooling2D  (None, 64, 64, 16)       0         \n",
      " )                                                               \n",
      "                                                                 \n",
      " conv2d_1 (Conv2D)           (None, 64, 64, 32)        4640      \n",
      "                                                                 \n",
      " max_pooling2d_1 (MaxPooling  (None, 32, 32, 32)       0         \n",
      " 2D)                                                             \n",
      "                                                                 \n",
      " conv2d_2 (Conv2D)           (None, 32, 32, 64)        18496     \n",
      "                                                                 \n",
      " max_pooling2d_2 (MaxPooling  (None, 16, 16, 64)       0         \n",
      " 2D)                                                             \n",
      "                                                                 \n",
      " flatten (Flatten)           (None, 16384)             0         \n",
      "                                                                 \n",
      " dense (Dense)               (None, 256)               4194560   \n",
      "                                                                 \n",
      " dropout (Dropout)           (None, 256)               0         \n",
      "                                                                 \n",
      " dense_1 (Dense)             (None, 256)               65792     \n",
      "                                                                 \n",
      " dropout_1 (Dropout)         (None, 256)               0         \n",
      "                                                                 \n",
      " dense_2 (Dense)             (None, 5)                 1285      \n",
      "                                                                 \n",
      "=================================================================\n",
      "Total params: 4,285,221\n",
      "Trainable params: 4,285,221\n",
      "Non-trainable params: 0\n",
      "_________________________________________________________________\n"
     ]
    }
   ],
   "source": [
    "model.compile(\n",
    "    optimizer='adam',\n",
    "    loss='categorical_crossentropy',\n",
    "    metrics=['accuracy']\n",
    ")\n",
    "\n",
    "model.summary()"
   ]
  },
  {
   "cell_type": "code",
   "execution_count": 16,
   "metadata": {
    "colab": {
     "base_uri": "https://localhost:8080/"
    },
    "id": "mheRdfuzPkba",
    "outputId": "ab59db44-33f8-438c-e186-8fa417500134"
   },
   "outputs": [
    {
     "name": "stdout",
     "output_type": "stream",
     "text": [
      "Epoch 1/20\n",
      "15/68 [=====>........................] - ETA: 23s - loss: 1.7292 - accuracy: 0.1958"
     ]
    },
    {
     "name": "stderr",
     "output_type": "stream",
     "text": [
      "C:\\Users\\Priya\\anaconda31\\lib\\site-packages\\PIL\\Image.py:945: UserWarning: Palette images with Transparency expressed in bytes should be converted to RGBA images\n",
      "  warnings.warn(\n"
     ]
    },
    {
     "name": "stdout",
     "output_type": "stream",
     "text": [
      "68/68 [==============================] - 43s 612ms/step - loss: 1.6248 - accuracy: 0.2479 - val_loss: 1.5644 - val_accuracy: 0.4828\n",
      "Epoch 2/20\n",
      "68/68 [==============================] - 31s 455ms/step - loss: 1.4569 - accuracy: 0.3756 - val_loss: 0.9400 - val_accuracy: 0.6724\n",
      "Epoch 3/20\n",
      "68/68 [==============================] - 28s 409ms/step - loss: 1.2177 - accuracy: 0.4986 - val_loss: 0.6712 - val_accuracy: 0.7414\n",
      "Epoch 4/20\n",
      "68/68 [==============================] - 27s 401ms/step - loss: 1.0772 - accuracy: 0.5800 - val_loss: 0.5549 - val_accuracy: 0.7241\n",
      "Epoch 5/20\n",
      "68/68 [==============================] - 27s 396ms/step - loss: 0.9248 - accuracy: 0.6438 - val_loss: 0.4949 - val_accuracy: 0.8190\n",
      "Epoch 6/20\n",
      "68/68 [==============================] - 29s 432ms/step - loss: 0.8333 - accuracy: 0.6799 - val_loss: 0.3527 - val_accuracy: 0.8707\n",
      "Epoch 7/20\n",
      "68/68 [==============================] - 30s 438ms/step - loss: 0.7418 - accuracy: 0.7290 - val_loss: 0.3541 - val_accuracy: 0.8621\n",
      "Epoch 8/20\n",
      "68/68 [==============================] - 30s 439ms/step - loss: 0.7061 - accuracy: 0.7493 - val_loss: 0.2995 - val_accuracy: 0.8879\n",
      "Epoch 9/20\n",
      "68/68 [==============================] - 32s 466ms/step - loss: 0.6230 - accuracy: 0.7798 - val_loss: 0.2345 - val_accuracy: 0.9052\n",
      "Epoch 10/20\n",
      "68/68 [==============================] - 32s 472ms/step - loss: 0.5861 - accuracy: 0.7891 - val_loss: 0.1862 - val_accuracy: 0.9310\n",
      "Epoch 11/20\n",
      "68/68 [==============================] - 30s 441ms/step - loss: 0.5155 - accuracy: 0.8242 - val_loss: 0.1581 - val_accuracy: 0.9569\n",
      "Epoch 12/20\n",
      "68/68 [==============================] - 27s 402ms/step - loss: 0.4332 - accuracy: 0.8492 - val_loss: 0.1709 - val_accuracy: 0.9397\n",
      "Epoch 13/20\n",
      "68/68 [==============================] - 27s 396ms/step - loss: 0.4251 - accuracy: 0.8474 - val_loss: 0.1621 - val_accuracy: 0.9483\n",
      "Epoch 14/20\n",
      "68/68 [==============================] - 27s 404ms/step - loss: 0.3326 - accuracy: 0.8908 - val_loss: 0.1723 - val_accuracy: 0.9655\n",
      "Epoch 15/20\n",
      "68/68 [==============================] - 29s 423ms/step - loss: 0.3629 - accuracy: 0.8834 - val_loss: 0.1424 - val_accuracy: 0.9397\n",
      "Epoch 16/20\n",
      "68/68 [==============================] - 30s 437ms/step - loss: 0.3242 - accuracy: 0.8788 - val_loss: 0.2012 - val_accuracy: 0.9052\n",
      "Epoch 17/20\n",
      "68/68 [==============================] - 31s 453ms/step - loss: 0.2801 - accuracy: 0.9093 - val_loss: 0.1454 - val_accuracy: 0.9483\n",
      "Epoch 18/20\n",
      "68/68 [==============================] - 30s 439ms/step - loss: 0.2751 - accuracy: 0.9066 - val_loss: 0.1976 - val_accuracy: 0.9397\n",
      "Epoch 19/20\n",
      "68/68 [==============================] - 32s 471ms/step - loss: 0.2516 - accuracy: 0.9130 - val_loss: 0.1905 - val_accuracy: 0.9655\n",
      "Epoch 20/20\n",
      "68/68 [==============================] - 31s 450ms/step - loss: 0.2315 - accuracy: 0.9149 - val_loss: 0.1803 - val_accuracy: 0.9310\n"
     ]
    }
   ],
   "source": [
    "from tensorflow.keras.callbacks import EarlyStopping\n",
    "\n",
    "early_stopping = EarlyStopping(\n",
    "    min_delta=0.005,\n",
    "    patience=5,\n",
    "    restore_best_weights=True\n",
    ")\n",
    "from PIL import ImageFile\n",
    "ImageFile.LOAD_TRUNCATED_IMAGES = True\n",
    "\n",
    "history = model.fit(\n",
    "    train_gen,\n",
    "    validation_data = val_gen,\n",
    "    epochs = 20,\n",
    "    callbacks = [early_stopping]\n",
    ")"
   ]
  },
  {
   "cell_type": "code",
   "execution_count": 17,
   "metadata": {
    "colab": {
     "base_uri": "https://localhost:8080/",
     "height": 607
    },
    "id": "zWvlf6LoajsU",
    "outputId": "68b1350d-b852-4c4e-ec5d-1f655f33137c"
   },
   "outputs": [
    {
     "data": {
      "image/png": "[encoded data removed]",
      "text/plain": [
       "<Figure size 1080x720 with 2 Axes>"
      ]
     },
     "metadata": {
      "needs_background": "light"
     },
     "output_type": "display_data"
    }
   ],
   "source": [
    "plt.figure(figsize=(15, 10))\n",
    "\n",
    "# plot the loss function\n",
    "plt.subplot(1,2,1)\n",
    "plt.plot(history.history['loss'], label='train')\n",
    "plt.plot(history.history['val_loss'], label='validation')\n",
    "plt.title('Loss Function')\n",
    "plt.grid(True)\n",
    "plt.legend()\n",
    "\n",
    "# and the accuracy\n",
    "plt.subplot(1,2,2)\n",
    "plt.plot(history.history['accuracy'], label='train')\n",
    "plt.plot(history.history['val_accuracy'], label='validation')\n",
    "plt.grid(True)\n",
    "plt.title('Accuracy')\n",
    "plt.legend()\n",
    "\n",
    "plt.show()"
   ]
  },
  {
   "cell_type": "code",
   "execution_count": 18,
   "metadata": {
    "colab": {
     "base_uri": "https://localhost:8080/"
    },
    "id": "1yi06ALag6uZ",
    "outputId": "56578ca4-424a-441d-aad8-d430a361fbb3"
   },
   "outputs": [
    {
     "name": "stdout",
     "output_type": "stream",
     "text": [
      "23/23 [==============================] - 14s 616ms/step\n",
      "              precision    recall  f1-score   support\n",
      "\n",
      "           0       0.31      0.30      0.30        73\n",
      "           1       0.23      0.23      0.23        60\n",
      "           2       0.22      0.22      0.22        87\n",
      "           3       0.20      0.19      0.19        52\n",
      "           4       0.24      0.24      0.24        82\n",
      "\n",
      "    accuracy                           0.24       354\n",
      "   macro avg       0.24      0.24      0.24       354\n",
      "weighted avg       0.24      0.24      0.24       354\n",
      "\n"
     ]
    }
   ],
   "source": [
    "from sklearn.metrics import classification_report\n",
    "y_pred = model.predict(test_gen)\n",
    "y_pred = np.argmax(y_pred, axis=1)\n",
    "print(classification_report(test_gen.classes, y_pred))"
   ]
  },
  {
   "cell_type": "code",
   "execution_count": 19,
   "metadata": {
    "id": "O04k1RueiMDB"
   },
   "outputs": [],
   "source": [
    "classnames = []\n",
    "for dir in os.listdir(train_path):\n",
    "    classnames.append(dir) # append the folder name, the class"
   ]
  },
  {
   "cell_type": "code",
   "execution_count": 20,
   "metadata": {
    "colab": {
     "base_uri": "https://localhost:8080/",
     "height": 513
    },
    "id": "sSvuVDythBgB",
    "outputId": "8b6fb927-e7bf-4b6c-f5bb-45a15f300a80"
   },
   "outputs": [
    {
     "data": {
      "image/png": "[encoded data removed]",
      "text/plain": [
       "<Figure size 1440x576 with 2 Axes>"
      ]
     },
     "metadata": {
      "needs_background": "light"
     },
     "output_type": "display_data"
    }
   ],
   "source": [
    "from sklearn.metrics import confusion_matrix\n",
    "import seaborn as sns\n",
    "\n",
    "# define the matrix with the real classes and the predicted\n",
    "m = confusion_matrix(test_gen.classes, y_pred)\n",
    "# the labels for the plot\n",
    "labels = classnames\n",
    "plt.figure(figsize=(20, 8))\n",
    "# create the plot\n",
    "heatmap = sns.heatmap(m, xticklabels=labels, yticklabels=labels, annot=True, fmt='d', color='blue')\n",
    "# labels for the axes\n",
    "plt.xlabel('Predicted Class')\n",
    "plt.ylabel('True Class')\n",
    "plt.title('Confusion Matrix')\n",
    "plt.show()"
   ]
  },
  {
   "cell_type": "code",
   "execution_count": 21,
   "metadata": {
    "id": "MakB4M3chX00"
   },
   "outputs": [
    {
     "name": "stderr",
     "output_type": "stream",
     "text": [
      "WARNING:absl:Found untraced functions such as _jit_compiled_convolution_op, _jit_compiled_convolution_op, _jit_compiled_convolution_op while saving (showing 3 of 3). These functions will not be directly callable after loading.\n"
     ]
    },
    {
     "name": "stdout",
     "output_type": "stream",
     "text": [
      "INFO:tensorflow:Assets written to: cnn_yoga_5_model\\assets\n"
     ]
    },
    {
     "name": "stderr",
     "output_type": "stream",
     "text": [
      "INFO:tensorflow:Assets written to: cnn_yoga_5_model\\assets\n"
     ]
    }
   ],
   "source": [
    "model.save('cnn_yoga_5_model')"
   ]
  },
  {
   "cell_type": "code",
   "execution_count": 22,
   "metadata": {},
   "outputs": [],
   "source": [
    "from tensorflow import keras\n",
    "model_loaded = keras.models.load_model('cnn_yoga_5_model')"
   ]
  },
  {
   "cell_type": "code",
   "execution_count": 24,
   "metadata": {},
   "outputs": [
    {
     "data": {
      "text/plain": [
       "{'downdog': 0, 'goddess': 1, 'plank': 2, 'tree': 3, 'warrior2': 4}"
      ]
     },
     "execution_count": 24,
     "metadata": {},
     "output_type": "execute_result"
    }
   ],
   "source": []
  },
  {
   "cell_type": "code",
   "execution_count": 25,
   "metadata": {},
   "outputs": [],
   "source": [
    "import pickle\n",
    "\n",
    "with open('saved_dictionary_5_yoga.pkl', 'wb') as f:\n",
    "    pickle.dump(train_gen.class_indices, f)"
   ]
  },
  {
   "cell_type": "code",
   "execution_count": null,
   "metadata": {},
   "outputs": [],
   "source": []
  }
 ],
 "metadata": {
  "colab": {
   "provenance": []
  },
  "kernelspec": {
   "display_name": "Python 3 (ipykernel)",
   "language": "python",
   "name": "python3"
  },
  "language_info": {
   "codemirror_mode": {
    "name": "ipython",
    "version": 3
   },
   "file_extension": ".py",
   "mimetype": "text/x-python",
   "name": "python",
   "nbconvert_exporter": "python",
   "pygments_lexer": "ipython3",
   "version": "3.9.12"
  }
 },
 "nbformat": 4,
 "nbformat_minor": 1
}
